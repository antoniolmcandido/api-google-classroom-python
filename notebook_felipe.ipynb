{
 "cells": [
  {
   "cell_type": "code",
   "execution_count": 14,
   "id": "98ecd314a3aa5b3a",
   "metadata": {
    "ExecuteTime": {
     "end_time": "2024-12-20T13:51:40.460572Z",
     "start_time": "2024-12-20T13:51:40.451581Z"
    }
   },
   "outputs": [],
   "source": [
    "# python -m venv venv\n",
    "# pip install --upgrade google-api-python-client google-auth-httplib2 google-auth-oauthlib"
   ]
  },
  {
   "cell_type": "code",
   "execution_count": 15,
   "id": "2f39c03e0878407f",
   "metadata": {
    "ExecuteTime": {
     "end_time": "2024-12-20T13:51:40.494771Z",
     "start_time": "2024-12-20T13:51:40.471376Z"
    }
   },
   "outputs": [],
   "source": [
    "import os.path\n",
    "from google.auth.transport.requests import Request\n",
    "from google.oauth2.credentials import Credentials\n",
    "from google_auth_oauthlib.flow import InstalledAppFlow\n",
    "from googleapiclient.discovery import build\n",
    "from googleapiclient.errors import HttpError"
   ]
  },
  {
   "cell_type": "markdown",
   "id": "2fabf01eb64f13d5",
   "metadata": {},
   "source": []
  },
  {
   "cell_type": "code",
   "execution_count": 16,
   "id": "3758343aacab59ef",
   "metadata": {
    "ExecuteTime": {
     "end_time": "2024-12-20T13:51:40.518982Z",
     "start_time": "2024-12-20T13:51:40.511592Z"
    }
   },
   "outputs": [],
   "source": [
    "SCOPES = [\n",
    "    \"https://www.googleapis.com/auth/classroom.courseworkmaterials.readonly\",\n",
    "    \"https://www.googleapis.com/auth/classroom.student-submissions.me.readonly\",\n",
    "    \"https://www.googleapis.com/auth/classroom.rosters\",\n",
    "    \"https://www.googleapis.com/auth/classroom.guardianlinks.me.readonly\",\n",
    "    \"https://www.googleapis.com/auth/classroom.guardianlinks.students.readonly\",\n",
    "    \"https://www.googleapis.com/auth/classroom.courses\",\n",
    "    \"https://www.googleapis.com/auth/classroom.guardianlinks.students\",\n",
    "    \"https://www.googleapis.com/auth/classroom.topics.readonly\",\n",
    "    \"https://www.googleapis.com/auth/classroom.coursework.me\",\n",
    "    \"https://www.googleapis.com/auth/classroom.profile.photos\",\n",
    "    \"https://www.googleapis.com/auth/classroom.announcements\",\n",
    "    \"https://www.googleapis.com/auth/classroom.courses.readonly\",\n",
    "    \"https://www.googleapis.com/auth/classroom.rosters.readonly\",\n",
    "    \"https://www.googleapis.com/auth/classroom.profile.emails\",\n",
    "    \"https://www.googleapis.com/auth/classroom.courseworkmaterials\",\n",
    "    \"https://www.googleapis.com/auth/classroom.coursework.students\",\n",
    "    \"https://www.googleapis.com/auth/classroom.student-submissions.students.readonly\",\n",
    "    \"https://www.googleapis.com/auth/classroom.topics\",\n",
    "    \"https://www.googleapis.com/auth/classroom.push-notifications\",\n",
    "    \"https://www.googleapis.com/auth/classroom.announcements.readonly\",\n",
    "]"
   ]
  },
  {
   "cell_type": "code",
   "execution_count": 17,
   "id": "55b608d0",
   "metadata": {
    "ExecuteTime": {
     "end_time": "2024-12-20T13:51:40.558912Z",
     "start_time": "2024-12-20T13:51:40.539155Z"
    }
   },
   "outputs": [],
   "source": [
    "def get_creds():\n",
    "    \"\"\"Shows basic usage of the Classroom API.\n",
    "    Prints the names of the first 10 courses the user has access to.\n",
    "    \"\"\"\n",
    "    creds = None\n",
    "    # The file token.json stores the user's access and refresh tokens, and is\n",
    "    # created automatically when the authorization flow completes for the first\n",
    "    # time.\n",
    "    if os.path.exists(\"token.json\"):\n",
    "        creds = Credentials.from_authorized_user_file(\"token.json\", SCOPES)\n",
    "        #atualiza o token, caso novos escopos tenham sido adicionados\n",
    "        os.remove(\"token.json\")\n",
    "        with open(\"token.json\", \"w\") as token_file:\n",
    "            token_file.write(creds.to_json())\n",
    "        creds = Credentials.from_authorized_user_file(\"token.json\", SCOPES)\n",
    "    # If there are no (valid) credentials available, let the user log in.\n",
    "    if not creds or not creds.valid:\n",
    "        if creds and creds.expired and creds.refresh_token:\n",
    "            creds.refresh(Request())\n",
    "        else:\n",
    "            flow = InstalledAppFlow.from_client_secrets_file(\"credentials.json\", SCOPES)\n",
    "            creds = flow.run_local_server(port=0)\n",
    "        # Save the credentials for the next run\n",
    "        with open(\"token.json\", \"w\") as token:\n",
    "            token.write(creds.to_json())\n",
    "\n",
    "    return creds"
   ]
  },
  {
   "cell_type": "code",
   "execution_count": 18,
   "id": "eeac9e88f3fdc9a4",
   "metadata": {
    "ExecuteTime": {
     "end_time": "2024-12-20T13:51:40.606839Z",
     "start_time": "2024-12-20T13:51:40.576806Z"
    }
   },
   "outputs": [],
   "source": [
    "def read_courses():    \n",
    "\n",
    "    try:\n",
    "        creds = get_creds()    \n",
    "        service = build(\"classroom\", \"v1\", credentials=creds)\n",
    "\n",
    "        # Call the Classroom API\n",
    "        results = service.courses().list(pageSize=10).execute()\n",
    "        courses = results.get(\"courses\", [])\n",
    "\n",
    "        if not courses:\n",
    "            print(\"No courses found.\")\n",
    "            return\n",
    "        # Prints the names of the first 10 courses.\n",
    "        print(\"Courses:\")\n",
    "        for course in courses:\n",
    "            print(course[\"name\"])\n",
    "\n",
    "        return courses\n",
    "\n",
    "    except HttpError as error:\n",
    "        print(f\"\\nAn error occurred: {error}\\n\")"
   ]
  },
  {
   "cell_type": "code",
   "execution_count": 19,
   "id": "a0c3ac407b911677",
   "metadata": {
    "ExecuteTime": {
     "end_time": "2024-12-20T13:51:54.212268Z",
     "start_time": "2024-12-20T13:51:40.669977Z"
    }
   },
   "outputs": [
    {
     "name": "stdout",
     "output_type": "stream",
     "text": [
      "Courses:\n",
      "Minicurso 2 - MdA 2024\n",
      "UECE - Estágio Não Obrigatório - 2023.2\n",
      "UECE - Estágio Obrig. 2023-2\n",
      "UECE - OC-2023.2\n",
      "Tópicos IC - 2024.2\n",
      "LSI 2023\n",
      "UECE-RNA/IC2023.1\n",
      "Estatística para a Pesquisa Educacional I / Introdução à Estatística\n",
      "TEIA2022-DL\n",
      "IA2022-KRR\n"
     ]
    }
   ],
   "source": [
    "courses = read_courses()"
   ]
  },
  {
   "cell_type": "code",
   "execution_count": 20,
   "id": "d071b5e7",
   "metadata": {
    "ExecuteTime": {
     "end_time": "2024-12-20T13:51:54.253350Z",
     "start_time": "2024-12-20T13:51:54.235877Z"
    }
   },
   "outputs": [
    {
     "name": "stdout",
     "output_type": "stream",
     "text": [
      "630681386593\n"
     ]
    }
   ],
   "source": [
    "id_course = courses[1][\"id\"] \n",
    "print(id_course)"
   ]
  },
  {
   "cell_type": "code",
   "execution_count": 21,
   "id": "063307d1",
   "metadata": {
    "ExecuteTime": {
     "end_time": "2024-12-20T13:51:54.815047Z",
     "start_time": "2024-12-20T13:51:54.571680Z"
    }
   },
   "outputs": [],
   "source": [
    "def read_topics(id):    \n",
    "\n",
    "    try:\n",
    "        creds = get_creds()\n",
    "        service = build(\"classroom\", \"v1\", credentials=creds)\n",
    "\n",
    "        # Call the Classroom API\n",
    "        results = service.courses().list(pageSize=10).execute()\n",
    "        courses = results.get(\"courses\", [])\n",
    "\n",
    "        course_id = id\n",
    "\n",
    "        # Lista os tópicos do curso\n",
    "        topics = service.courses().topics().list(courseId=course_id).execute()\n",
    "        for topic in topics.get(\"topic\", []):\n",
    "            print(f'Topic: {topic[\"name\"]}')\n",
    "\n",
    "        # Lista os trabalhos do curso\n",
    "        course_work = service.courses().courseWork().list(courseId=course_id).execute()\n",
    "        for work in course_work.get(\"courseWork\", []):\n",
    "            print(f'Course Work: {work[\"title\"]}')\n",
    "\n",
    "    except HttpError as error:\n",
    "        print(f\"\\nAn error occurred: {error}\\n\")"
   ]
  },
  {
   "cell_type": "code",
   "execution_count": 22,
   "id": "e08da7dc",
   "metadata": {},
   "outputs": [
    {
     "name": "stdout",
     "output_type": "stream",
     "text": [
      "\n",
      "An error occurred: <HttpError 404 when requesting https://classroom.googleapis.com/v1/courses/0/topics?alt=json returned \"Requested entity was not found.\". Details: \"Requested entity was not found.\">\n",
      "\n"
     ]
    }
   ],
   "source": [
    "read_topics(0)"
   ]
  },
  {
   "cell_type": "code",
   "execution_count": 26,
   "id": "140639cb0d737329",
   "metadata": {
    "ExecuteTime": {
     "end_time": "2024-12-20T13:51:55.237053Z",
     "start_time": "2024-12-20T13:51:55.150435Z"
    }
   },
   "outputs": [],
   "source": [
    "def read_announcments():\n",
    "    try:\n",
    "        creds = get_creds()\n",
    "        service = build(\"classroom\", \"v1\", credentials=creds)\n",
    "\n",
    "        # Fetch the list of courses\n",
    "        results = service.courses().list(pageSize=10).execute()\n",
    "        courses = results.get(\"courses\", [])\n",
    "\n",
    "        if not courses:\n",
    "            print(\"No courses found.\")\n",
    "            return\n",
    "\n",
    "        # Select the first course for demonstration\n",
    "        course_id = courses[0][\"id\"]\n",
    "\n",
    "        # Fetch the announcements of the selected course\n",
    "        announcements = service.courses().announcements().list(courseId=course_id).execute()\n",
    "        for announcement in announcements.get(\"announcements\", []):\n",
    "            print(f'Announcement: {announcement[\"text\"]}')\n",
    "\n",
    "    except HttpError as error:\n",
    "        print(f\"\\nAn error occurred: {error}\\n\")"
   ]
  },
  {
   "cell_type": "code",
   "execution_count": 27,
   "id": "3f4c7f2a891526fe",
   "metadata": {
    "ExecuteTime": {
     "end_time": "2024-12-20T13:51:55.359167Z",
     "start_time": "2024-12-20T13:51:55.321436Z"
    }
   },
   "outputs": [],
   "source": [
    "def read_rosters():\n",
    "    try:\n",
    "        creds = get_creds()\n",
    "        service = build(\"classroom\", \"v1\", credentials=creds)\n",
    "\n",
    "        # Fetch the list of courses\n",
    "        results = service.courses().list(pageSize=10).execute()\n",
    "        courses = results.get(\"courses\", [])\n",
    "\n",
    "        if not courses:\n",
    "            print(\"No courses found.\")\n",
    "            return\n",
    "\n",
    "        # Select the first course for demonstration\n",
    "        course_id = courses[0][\"id\"]\n",
    "\n",
    "        # Fetch the teachers of the selected course\n",
    "        print(\"Teachers:\")\n",
    "        teachers = service.courses().teachers().list(courseId=course_id).execute()\n",
    "        for teacher in teachers.get(\"teachers\", []):\n",
    "            full_name = teacher.get('profile', {}).get('name', {}).get('fullName', 'Unavailable')\n",
    "            email = teacher.get('profile', {}).get('emailAddress', 'Unavailable')\n",
    "            print(f\"Type: Teacher, Name: {full_name}, Email: {email}\")\n",
    "\n",
    "        # Fetch the students of the selected course\n",
    "        print(\"Students:\")\n",
    "        students = service.courses().students().list(courseId=course_id).execute()\n",
    "        for student in students.get(\"students\", []):\n",
    "            print(f\"Type: Student, Name: {student['profile']['name']['fullName']}, Email: {student['profile']['emailAddress']}\")\n",
    "\n",
    "    except HttpError as error:\n",
    "        print(f\"\\nAn error occurred: {error}\\n\")"
   ]
  },
  {
   "cell_type": "code",
   "execution_count": 28,
   "id": "0eff857f",
   "metadata": {
    "ExecuteTime": {
     "end_time": "2024-12-20T13:52:05.550635Z",
     "start_time": "2024-12-20T13:51:55.368664Z"
    }
   },
   "outputs": [
    {
     "ename": "TypeError",
     "evalue": "read_topics() missing 1 required positional argument: 'id'",
     "output_type": "error",
     "traceback": [
      "\u001b[1;31m---------------------------------------------------------------------------\u001b[0m",
      "\u001b[1;31mTypeError\u001b[0m                                 Traceback (most recent call last)",
      "Cell \u001b[1;32mIn[28], line 1\u001b[0m\n\u001b[1;32m----> 1\u001b[0m \u001b[43mread_topics\u001b[49m\u001b[43m(\u001b[49m\u001b[43m)\u001b[49m\n\u001b[0;32m      2\u001b[0m read_announcments()\n\u001b[0;32m      3\u001b[0m read_rosters()\n",
      "\u001b[1;31mTypeError\u001b[0m: read_topics() missing 1 required positional argument: 'id'"
     ]
    }
   ],
   "source": [
    "read_topics()\n",
    "read_announcments()\n",
    "read_rosters()"
   ]
  }
 ],
 "metadata": {
  "kernelspec": {
   "display_name": "Python 3",
   "language": "python",
   "name": "python3"
  },
  "language_info": {
   "codemirror_mode": {
    "name": "ipython",
    "version": 3
   },
   "file_extension": ".py",
   "mimetype": "text/x-python",
   "name": "python",
   "nbconvert_exporter": "python",
   "pygments_lexer": "ipython3",
   "version": "3.9.10"
  }
 },
 "nbformat": 4,
 "nbformat_minor": 5
}
