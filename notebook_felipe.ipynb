{
 "cells": [
  {
   "cell_type": "code",
   "execution_count": null,
   "id": "98ecd314a3aa5b3a",
   "metadata": {},
   "outputs": [],
   "source": [
    "# python -m venv venv\n",
    "# pip install --upgrade google-api-python-client google-auth-httplib2 google-auth-oauthlib"
   ]
  },
  {
   "cell_type": "code",
   "execution_count": 1,
   "id": "2f39c03e0878407f",
   "metadata": {
    "ExecuteTime": {
     "end_time": "2024-12-17T00:44:46.250237Z",
     "start_time": "2024-12-17T00:44:45.519020Z"
    }
   },
   "outputs": [],
   "source": [
    "import os.path\n",
    "from google.auth.transport.requests import Request\n",
    "from google.oauth2.credentials import Credentials\n",
    "from google_auth_oauthlib.flow import InstalledAppFlow\n",
    "from googleapiclient.discovery import build\n",
    "from googleapiclient.errors import HttpError"
   ]
  },
  {
   "cell_type": "markdown",
   "id": "2fabf01eb64f13d5",
   "metadata": {},
   "source": []
  },
  {
   "cell_type": "code",
   "execution_count": 44,
   "id": "3758343aacab59ef",
   "metadata": {
    "ExecuteTime": {
     "end_time": "2024-12-17T01:15:47.195829Z",
     "start_time": "2024-12-17T01:15:47.192304Z"
    }
   },
   "outputs": [],
   "source": [
    "# If modifying these scopes, delete the file token.json.\n",
    "# SCOPES = [    \n",
    "#     'https://www.googleapis.com/auth/classroom.announcements',\n",
    "#     'https://www.googleapis.com/auth/classroom.announcements.readonly',\n",
    "#     'https://www.googleapis.com/auth/classroom.courses',\n",
    "#     'https://www.googleapis.com/auth/classroom.courses.readonly',\n",
    "#     'https://www.googleapis.com/auth/classroom.coursework.me',\n",
    "#     'https://www.googleapis.com/auth/classroom.coursework.me.readonly',\n",
    "#     'https://www.googleapis.com/auth/classroom.coursework.students',\n",
    "#     'https://www.googleapis.com/auth/classroom.coursework.students.readonly',\n",
    "#     'https://www.googleapis.com/auth/classroom.courseworkmaterials',\n",
    "#     'https://www.googleapis.com/auth/classroom.courseworkmaterials.readonly',\n",
    "#     'https://www.googleapis.com/auth/classroom.guardianlinks.me.readonly',\n",
    "#     'https://www.googleapis.com/auth/classroom.guardianlinks.students',\n",
    "#     'https://www.googleapis.com/auth/classroom.guardianlinks.students.readonly',\n",
    "#     'https://www.googleapis.com/auth/classroom.profile.emails',\n",
    "#     'https://www.googleapis.com/auth/classroom.profile.photos',\n",
    "#     'https://www.googleapis.com/auth/classroom.push-notifications',\n",
    "#     'https://www.googleapis.com/auth/classroom.rosters',\n",
    "#     'https://www.googleapis.com/auth/classroom.rosters.readonly',\n",
    "#     'https://www.googleapis.com/auth/classroom.student-submissions.me.readonly',\n",
    "#     'https://www.googleapis.com/auth/classroom.student-submissions.students.readonly',\n",
    "#     'https://www.googleapis.com/auth/classroom.topics',\n",
    "#     'https://www.googleapis.com/auth/classroom.topics.readonly'\n",
    "# ]\n",
    "\n",
    "SCOPES = [\n",
    "    \"https://www.googleapis.com/auth/classroom.courses.readonly\",\n",
    "    \"https://www.googleapis.com/auth/classroom.topics.readonly\",\n",
    "    \"https://www.googleapis.com/auth/classroom.coursework.students.readonly\",\n",
    "]"
   ]
  },
  {
   "cell_type": "code",
   "execution_count": 45,
   "id": "55b608d0",
   "metadata": {},
   "outputs": [],
   "source": [
    "def get_creds():\n",
    "    \"\"\"Shows basic usage of the Classroom API.\n",
    "    Prints the names of the first 10 courses the user has access to.\n",
    "    \"\"\"\n",
    "    creds = None\n",
    "    # The file token.json stores the user's access and refresh tokens, and is\n",
    "    # created automatically when the authorization flow completes for the first\n",
    "    # time.\n",
    "    if os.path.exists(\"token.json\"):\n",
    "        creds = Credentials.from_authorized_user_file(\"token.json\", SCOPES)\n",
    "    # If there are no (valid) credentials available, let the user log in.\n",
    "    if not creds or not creds.valid:\n",
    "        if creds and creds.expired and creds.refresh_token:\n",
    "            creds.refresh(Request())\n",
    "        else:\n",
    "            flow = InstalledAppFlow.from_client_secrets_file(\"credentials.json\", SCOPES)\n",
    "            creds = flow.run_local_server(port=0)\n",
    "        # Save the credentials for the next run\n",
    "        with open(\"token.json\", \"w\") as token:\n",
    "            token.write(creds.to_json())\n",
    "\n",
    "    return creds"
   ]
  },
  {
   "cell_type": "code",
   "execution_count": 46,
   "id": "eeac9e88f3fdc9a4",
   "metadata": {
    "ExecuteTime": {
     "end_time": "2024-12-17T01:15:50.813811Z",
     "start_time": "2024-12-17T01:15:50.807442Z"
    }
   },
   "outputs": [],
   "source": [
    "def read_courses():    \n",
    "\n",
    "    try:\n",
    "        creds = get_creds()    \n",
    "        service = build(\"classroom\", \"v1\", credentials=creds)\n",
    "\n",
    "        # Call the Classroom API\n",
    "        results = service.courses().list(pageSize=10).execute()\n",
    "        courses = results.get(\"courses\", [])\n",
    "\n",
    "        if not courses:\n",
    "            print(\"No courses found.\")\n",
    "            return\n",
    "        # Prints the names of the first 10 courses.\n",
    "        print(\"Courses:\")\n",
    "        for course in courses:\n",
    "            print(course[\"name\"])\n",
    "\n",
    "        return courses\n",
    "\n",
    "    except HttpError as error:\n",
    "        print(f\"An error occurred: {error}\")"
   ]
  },
  {
   "cell_type": "code",
   "execution_count": 47,
   "id": "a0c3ac407b911677",
   "metadata": {
    "ExecuteTime": {
     "end_time": "2024-12-17T01:17:56.262262Z",
     "start_time": "2024-12-17T01:15:53.114839Z"
    }
   },
   "outputs": [
    {
     "name": "stdout",
     "output_type": "stream",
     "text": [
      "Courses:\n",
      "API Classroom Leandro\n"
     ]
    }
   ],
   "source": [
    "courses = read_courses()"
   ]
  },
  {
   "cell_type": "code",
   "execution_count": 41,
   "id": "d071b5e7",
   "metadata": {},
   "outputs": [
    {
     "name": "stdout",
     "output_type": "stream",
     "text": [
      "687313643812\n"
     ]
    }
   ],
   "source": [
    "print(courses[0]['id'])"
   ]
  },
  {
   "cell_type": "code",
   "execution_count": 48,
   "id": "063307d1",
   "metadata": {},
   "outputs": [],
   "source": [
    "def read_topics():    \n",
    "\n",
    "    try:\n",
    "        creds = get_creds()\n",
    "        service = build(\"classroom\", \"v1\", credentials=creds)\n",
    "\n",
    "        # Call the Classroom API\n",
    "        results = service.courses().list(pageSize=10).execute()\n",
    "        courses = results.get(\"courses\", [])\n",
    "\n",
    "        # Substitua pelo ID do curso que você deseja acessar\n",
    "        course_id = courses[0][\"id\"]\n",
    "\n",
    "        # Lista os tópicos do curso\n",
    "        topics = service.courses().topics().list(courseId=course_id).execute()\n",
    "        for topic in topics.get(\"topic\", []):\n",
    "            print(f'Topic: {topic[\"name\"]}')\n",
    "\n",
    "        # Lista os trabalhos do curso\n",
    "        course_work = service.courses().courseWork().list(courseId=course_id).execute()\n",
    "        for work in course_work.get(\"courseWork\", []):\n",
    "            print(f'Course Work: {work[\"title\"]}')\n",
    "\n",
    "    except HttpError as error:\n",
    "        print(f\"An error occurred: {error}\")"
   ]
  },
  {
   "cell_type": "code",
   "execution_count": 49,
   "id": "0eff857f",
   "metadata": {},
   "outputs": [
    {
     "name": "stdout",
     "output_type": "stream",
     "text": [
      "An error occurred: <HttpError 403 when requesting https://classroom.googleapis.com/v1/courses/687313643812/topics?alt=json returned \"Request had insufficient authentication scopes.\". Details: \"[{'@type': 'type.googleapis.com/google.rpc.ErrorInfo', 'reason': 'ACCESS_TOKEN_SCOPE_INSUFFICIENT', 'domain': 'googleapis.com', 'metadata': {'service': 'classroom.googleapis.com', 'method': 'google.classroom.v1.Work.ListTopics'}}]\">\n"
     ]
    }
   ],
   "source": [
    "read_topics()"
   ]
  }
 ],
 "metadata": {
  "kernelspec": {
   "display_name": "Python 3",
   "language": "python",
   "name": "python3"
  },
  "language_info": {
   "codemirror_mode": {
    "name": "ipython",
    "version": 3
   },
   "file_extension": ".py",
   "mimetype": "text/x-python",
   "name": "python",
   "nbconvert_exporter": "python",
   "pygments_lexer": "ipython3",
   "version": "3.9.10"
  }
 },
 "nbformat": 4,
 "nbformat_minor": 5
}
