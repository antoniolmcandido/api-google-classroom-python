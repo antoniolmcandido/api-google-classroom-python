{
 "cells": [
  {
   "cell_type": "code",
   "execution_count": 19,
   "id": "98ecd314a3aa5b3a",
   "metadata": {},
   "outputs": [],
   "source": [
    "# python -m venv venv\n",
    "# pip install --upgrade google-api-python-client google-auth-httplib2 google-auth-oauthlib"
   ]
  },
  {
   "cell_type": "code",
   "execution_count": 1,
   "id": "2f39c03e0878407f",
   "metadata": {
    "ExecuteTime": {
     "end_time": "2024-12-17T00:44:46.250237Z",
     "start_time": "2024-12-17T00:44:45.519020Z"
    }
   },
   "outputs": [],
   "source": [
    "import os.path\n",
    "from google.auth.transport.requests import Request\n",
    "from google.oauth2.credentials import Credentials\n",
    "from google_auth_oauthlib.flow import InstalledAppFlow\n",
    "from googleapiclient.discovery import build\n",
    "from googleapiclient.errors import HttpError"
   ]
  },
  {
   "cell_type": "markdown",
   "id": "2fabf01eb64f13d5",
   "metadata": {},
   "source": []
  },
  {
   "cell_type": "code",
   "execution_count": 15,
   "id": "da8f6796",
   "metadata": {},
   "outputs": [],
   "source": [
    "SCOPES = [\n",
    "    \"https://www.googleapis.com/auth/classroom.courseworkmaterials.readonly\",\n",
    "    \"https://www.googleapis.com/auth/classroom.student-submissions.me.readonly\",\n",
    "    \"https://www.googleapis.com/auth/classroom.rosters\",\n",
    "    \"https://www.googleapis.com/auth/classroom.guardianlinks.me.readonly\",\n",
    "    \"https://www.googleapis.com/auth/classroom.guardianlinks.students.readonly\", \n",
    "    \"https://www.googleapis.com/auth/classroom.courses\", \n",
    "    \"https://www.googleapis.com/auth/classroom.guardianlinks.students\", \n",
    "    \"https://www.googleapis.com/auth/classroom.topics.readonly\", \n",
    "    \"https://www.googleapis.com/auth/classroom.coursework.me\", \n",
    "    \"https://www.googleapis.com/auth/classroom.profile.photos\", \n",
    "    \"https://www.googleapis.com/auth/classroom.announcements\", \n",
    "    \"https://www.googleapis.com/auth/classroom.courses.readonly\", \n",
    "    \"https://www.googleapis.com/auth/classroom.rosters.readonly\", \n",
    "    \"https://www.googleapis.com/auth/classroom.profile.emails\", \n",
    "    \"https://www.googleapis.com/auth/classroom.courseworkmaterials\", \n",
    "    \"https://www.googleapis.com/auth/classroom.coursework.students\", \n",
    "    \"https://www.googleapis.com/auth/classroom.student-submissions.students.readonly\", \n",
    "    \"https://www.googleapis.com/auth/classroom.topics\", \n",
    "    \"https://www.googleapis.com/auth/classroom.push-notifications\", \n",
    "    \"https://www.googleapis.com/auth/classroom.announcements.readonly\"\n",
    "]"
   ]
  },
  {
   "cell_type": "code",
   "execution_count": 7,
   "id": "55b608d0",
   "metadata": {},
   "outputs": [],
   "source": [
    "def get_creds():\n",
    "    \"\"\"Shows basic usage of the Classroom API.\n",
    "    Prints the names of the first 10 courses the user has access to.\n",
    "    \"\"\"\n",
    "    creds = None\n",
    "    # The file token.json stores the user's access and refresh tokens, and is\n",
    "    # created automatically when the authorization flow completes for the first\n",
    "    # time.\n",
    "    if os.path.exists(\"token.json\"):\n",
    "        creds = Credentials.from_authorized_user_file(\"token.json\", SCOPES)\n",
    "    # If there are no (valid) credentials available, let the user log in.\n",
    "    if not creds or not creds.valid:\n",
    "        if creds and creds.expired and creds.refresh_token:\n",
    "            creds.refresh(Request())\n",
    "        else:\n",
    "            flow = InstalledAppFlow.from_client_secrets_file(\"credentials.json\", SCOPES)\n",
    "            creds = flow.run_local_server(port=0)\n",
    "        # Save the credentials for the next run\n",
    "        with open(\"token.json\", \"w\") as token:\n",
    "            token.write(creds.to_json())\n",
    "\n",
    "    return creds"
   ]
  },
  {
   "cell_type": "code",
   "execution_count": 8,
   "id": "eeac9e88f3fdc9a4",
   "metadata": {
    "ExecuteTime": {
     "end_time": "2024-12-17T01:15:50.813811Z",
     "start_time": "2024-12-17T01:15:50.807442Z"
    }
   },
   "outputs": [],
   "source": [
    "def read_courses():    \n",
    "\n",
    "    try:\n",
    "        creds = get_creds()    \n",
    "        service = build(\"classroom\", \"v1\", credentials=creds)\n",
    "\n",
    "        # Call the Classroom API\n",
    "        results = service.courses().list(pageSize=10).execute()\n",
    "        courses = results.get(\"courses\", [])\n",
    "\n",
    "        if not courses:\n",
    "            print(\"No courses found.\")\n",
    "            return\n",
    "        # Prints the names of the first 10 courses.\n",
    "        print(\"Courses:\")\n",
    "        for course in courses:\n",
    "            print(course[\"name\"])\n",
    "\n",
    "        return courses\n",
    "\n",
    "    except HttpError as error:\n",
    "        print(f\"An error occurred: {error}\")"
   ]
  },
  {
   "cell_type": "code",
   "execution_count": 22,
   "id": "a0c3ac407b911677",
   "metadata": {
    "ExecuteTime": {
     "end_time": "2024-12-17T01:17:56.262262Z",
     "start_time": "2024-12-17T01:15:53.114839Z"
    }
   },
   "outputs": [
    {
     "name": "stdout",
     "output_type": "stream",
     "text": [
      "Please visit this URL to authorize this application: https://accounts.google.com/o/oauth2/auth?response_type=code&client_id=236633569803-imjj2d5t7jemnnqdhkea2i6k4mdfhtl1.apps.googleusercontent.com&redirect_uri=http%3A%2F%2Flocalhost%3A50067%2F&scope=https%3A%2F%2Fwww.googleapis.com%2Fauth%2Fclassroom.courseworkmaterials.readonly+https%3A%2F%2Fwww.googleapis.com%2Fauth%2Fclassroom.student-submissions.me.readonly+https%3A%2F%2Fwww.googleapis.com%2Fauth%2Fclassroom.rosters+https%3A%2F%2Fwww.googleapis.com%2Fauth%2Fclassroom.guardianlinks.me.readonly+https%3A%2F%2Fwww.googleapis.com%2Fauth%2Fclassroom.guardianlinks.students.readonly+https%3A%2F%2Fwww.googleapis.com%2Fauth%2Fclassroom.courses+https%3A%2F%2Fwww.googleapis.com%2Fauth%2Fclassroom.guardianlinks.students+https%3A%2F%2Fwww.googleapis.com%2Fauth%2Fclassroom.topics.readonly+https%3A%2F%2Fwww.googleapis.com%2Fauth%2Fclassroom.coursework.me+https%3A%2F%2Fwww.googleapis.com%2Fauth%2Fclassroom.profile.photos+https%3A%2F%2Fwww.googleapis.com%2Fauth%2Fclassroom.announcements+https%3A%2F%2Fwww.googleapis.com%2Fauth%2Fclassroom.courses.readonly+https%3A%2F%2Fwww.googleapis.com%2Fauth%2Fclassroom.rosters.readonly+https%3A%2F%2Fwww.googleapis.com%2Fauth%2Fclassroom.profile.emails+https%3A%2F%2Fwww.googleapis.com%2Fauth%2Fclassroom.courseworkmaterials+https%3A%2F%2Fwww.googleapis.com%2Fauth%2Fclassroom.coursework.students+https%3A%2F%2Fwww.googleapis.com%2Fauth%2Fclassroom.student-submissions.students.readonly+https%3A%2F%2Fwww.googleapis.com%2Fauth%2Fclassroom.topics+https%3A%2F%2Fwww.googleapis.com%2Fauth%2Fclassroom.push-notifications+https%3A%2F%2Fwww.googleapis.com%2Fauth%2Fclassroom.announcements.readonly&state=FtbAxezhzhT6dSQYeeQCF72XIQo7c4&access_type=offline\n",
      "Courses:\n",
      "Minicurso 2 - MdA 2024\n",
      "UECE - Estágio Não Obrigatório - 2023.2\n",
      "UECE - Estágio Obrig. 2023-2\n",
      "UECE - OC-2023.2\n",
      "Tópicos IC - 2024.2\n",
      "LSI 2023\n",
      "UECE-RNA/IC2023.1\n",
      "Estatística para a Pesquisa Educacional I / Introdução à Estatística\n",
      "TEIA2022-DL\n",
      "IA2022-KRR\n"
     ]
    }
   ],
   "source": [
    "courses = read_courses()"
   ]
  },
  {
   "cell_type": "code",
   "execution_count": 47,
   "id": "950a8533",
   "metadata": {},
   "outputs": [
    {
     "data": {
      "text/plain": [
       "[{'id': '718672410437',\n",
       "  'name': 'Minicurso 2 - MdA 2024',\n",
       "  'section': 'MdA 2024 - Escola de Meio de Ano em Computação',\n",
       "  'room': 'P-01',\n",
       "  'ownerId': '111297986967774253788',\n",
       "  'creationTime': '2024-09-25T10:51:46.569Z',\n",
       "  'updateTime': '2024-11-09T11:07:27.336Z',\n",
       "  'enrollmentCode': 'ezfgw3e',\n",
       "  'courseState': 'ARCHIVED',\n",
       "  'alternateLink': 'https://classroom.google.com/c/NzE4NjcyNDEwNDM3',\n",
       "  'teacherGroupEmail': 'Minicurso_1_MdA_MdA_Escola_de_Meio_de_Ano_em_Computa_o_teachers_12f9e88a@uece.br',\n",
       "  'courseGroupEmail': 'Minicurso_1_MdA_MdA_Escola_de_Meio_de_Ano_em_Computa_o_0cbe0f0e@uece.br',\n",
       "  'teacherFolder': {'id': '10ofXlTJapHpX-5ExD0otkiYU50wAXCWBWV_ry2aBX0jWqRZGQWgjVWwwI947WbLYoHHFHuge',\n",
       "   'title': 'Minicurso 1 - MdA MdA - Escola de Meio de Ano em Computação',\n",
       "   'alternateLink': 'https://drive.google.com/drive/folders/10ofXlTJapHpX-5ExD0otkiYU50wAXCWBWV_ry2aBX0jWqRZGQWgjVWwwI947WbLYoHHFHuge'},\n",
       "  'guardiansEnabled': False,\n",
       "  'calendarId': 'c_classroomb0f1b59d@group.calendar.google.com',\n",
       "  'gradebookSettings': {'calculationType': 'TOTAL_POINTS',\n",
       "   'displaySetting': 'HIDE_OVERALL_GRADE'}},\n",
       " {'id': '630681386593',\n",
       "  'name': 'UECE - Estágio Não Obrigatório - 2023.2',\n",
       "  'descriptionHeading': 'UECE - Estágio Não Obrigatório - 2023.2',\n",
       "  'ownerId': '111297986967774253788',\n",
       "  'creationTime': '2023-10-11T19:39:27.052Z',\n",
       "  'updateTime': '2024-07-04T11:45:42.535Z',\n",
       "  'enrollmentCode': 'imf3u3c',\n",
       "  'courseState': 'ARCHIVED',\n",
       "  'alternateLink': 'https://classroom.google.com/c/NjMwNjgxMzg2NTkz',\n",
       "  'teacherGroupEmail': 'UECE_Est_gio_N_o_Obrigat_rio_2023_2_teachers_34f4d059@uece.br',\n",
       "  'courseGroupEmail': 'UECE_Est_gio_N_o_Obrigat_rio_2023_2_26998e0b@uece.br',\n",
       "  'teacherFolder': {'id': '1gAh_Nfva1yh_dvJsxp1EwnXq4WXeQsWhl4_nNc7FZxeF22KkmvQvnANcZ_joPneh2mh6ijbJ',\n",
       "   'title': 'UECE - Estágio Não Obrigatório - 2023.2',\n",
       "   'alternateLink': 'https://drive.google.com/drive/folders/1gAh_Nfva1yh_dvJsxp1EwnXq4WXeQsWhl4_nNc7FZxeF22KkmvQvnANcZ_joPneh2mh6ijbJ'},\n",
       "  'guardiansEnabled': False,\n",
       "  'calendarId': 'c_classroom002f801e@group.calendar.google.com',\n",
       "  'gradebookSettings': {'calculationType': 'TOTAL_POINTS',\n",
       "   'displaySetting': 'HIDE_OVERALL_GRADE'}},\n",
       " {'id': '618354217502',\n",
       "  'name': 'UECE - Estágio Obrig. 2023-2',\n",
       "  'descriptionHeading': 'Estágio Obrigatório 2022.1',\n",
       "  'ownerId': '111297986967774253788',\n",
       "  'creationTime': '2023-08-16T18:10:34.462Z',\n",
       "  'updateTime': '2024-07-04T11:45:53.430Z',\n",
       "  'enrollmentCode': 'ujfnehe',\n",
       "  'courseState': 'ARCHIVED',\n",
       "  'alternateLink': 'https://classroom.google.com/c/NjE4MzU0MjE3NTAy',\n",
       "  'teacherGroupEmail': 'Est_gio_Obrigat_rio_2023_2_teachers_cf31e3f3@uece.br',\n",
       "  'courseGroupEmail': 'Est_gio_Obrigat_rio_2023_2_4e06856a@uece.br',\n",
       "  'teacherFolder': {'id': '15IQmiCXXp3Vhx0MbGHZjyxGy4Yb1eyCMY8WHhR7HOqellR7OLtgUeFcQ6r5I2tCBjcmpAffm',\n",
       "   'title': 'Estágio Obrigatório 2023-2',\n",
       "   'alternateLink': 'https://drive.google.com/drive/folders/15IQmiCXXp3Vhx0MbGHZjyxGy4Yb1eyCMY8WHhR7HOqellR7OLtgUeFcQ6r5I2tCBjcmpAffm'},\n",
       "  'guardiansEnabled': False,\n",
       "  'calendarId': 'c_classrooma00719a9@group.calendar.google.com',\n",
       "  'gradebookSettings': {'calculationType': 'TOTAL_POINTS',\n",
       "   'displaySetting': 'HIDE_OVERALL_GRADE'}},\n",
       " {'id': '617981386417',\n",
       "  'name': 'UECE - OC-2023.2',\n",
       "  'descriptionHeading': 'UECE - OC-CLD-2023.2',\n",
       "  'ownerId': '111297986967774253788',\n",
       "  'creationTime': '2023-08-13T22:10:35.991Z',\n",
       "  'updateTime': '2024-07-04T11:46:03.020Z',\n",
       "  'enrollmentCode': 'ei3tld5',\n",
       "  'courseState': 'ARCHIVED',\n",
       "  'alternateLink': 'https://classroom.google.com/c/NjE3OTgxMzg2NDE3',\n",
       "  'teacherGroupEmail': 'UECE_OC_CLD_2023_2_teachers_a966d393@uece.br',\n",
       "  'courseGroupEmail': 'UECE_OC_CLD_2023_2_af691ce3@uece.br',\n",
       "  'teacherFolder': {'id': '1yKfyYDNiMHntDnuWEAUG8lbYzdj162v4JFG8ezEEu88X5jNkL0KnFlZ8QOgr6b-Irc9M5mn_',\n",
       "   'title': 'UECE - OC-CLD-2023.2',\n",
       "   'alternateLink': 'https://drive.google.com/drive/folders/1yKfyYDNiMHntDnuWEAUG8lbYzdj162v4JFG8ezEEu88X5jNkL0KnFlZ8QOgr6b-Irc9M5mn_'},\n",
       "  'guardiansEnabled': False,\n",
       "  'calendarId': 'c_classroom68558ddd@group.calendar.google.com',\n",
       "  'gradebookSettings': {'calculationType': 'TOTAL_POINTS',\n",
       "   'displaySetting': 'HIDE_OVERALL_GRADE'}},\n",
       " {'id': '703924110216',\n",
       "  'name': 'Tópicos IC - 2024.2',\n",
       "  'descriptionHeading': 'Tópicos IC - 2024.2',\n",
       "  'ownerId': '111297986967774253788',\n",
       "  'creationTime': '2024-08-13T13:01:57.206Z',\n",
       "  'updateTime': '2024-08-13T13:01:57.206Z',\n",
       "  'courseState': 'ACTIVE',\n",
       "  'alternateLink': 'https://classroom.google.com/c/NzAzOTI0MTEwMjE2',\n",
       "  'teacherGroupEmail': 'T_picos_IC_2024_2_teachers_e07aea1d@uece.br',\n",
       "  'courseGroupEmail': 'T_picos_IC_2024_2_ee4e3b81@uece.br',\n",
       "  'guardiansEnabled': False,\n",
       "  'calendarId': 'c_classrooma53855bb@group.calendar.google.com',\n",
       "  'gradebookSettings': {'calculationType': 'TOTAL_POINTS',\n",
       "   'displaySetting': 'HIDE_OVERALL_GRADE'}},\n",
       " {'id': '599010285175',\n",
       "  'name': 'LSI 2023',\n",
       "  'descriptionHeading': 'LSI 2023',\n",
       "  'ownerId': '110872092626895172605',\n",
       "  'creationTime': '2023-03-14T21:24:52.420Z',\n",
       "  'updateTime': '2023-03-14T21:24:52.419Z',\n",
       "  'courseState': 'ACTIVE',\n",
       "  'alternateLink': 'https://classroom.google.com/c/NTk5MDEwMjg1MTc1',\n",
       "  'teacherGroupEmail': 'LSI_2023_teachers_2905e834@uece.br',\n",
       "  'courseGroupEmail': 'LSI_2023_16e2b257@uece.br',\n",
       "  'guardiansEnabled': False,\n",
       "  'calendarId': 'c_classroom256762ee@group.calendar.google.com',\n",
       "  'gradebookSettings': {'calculationType': 'TOTAL_POINTS',\n",
       "   'displaySetting': 'HIDE_OVERALL_GRADE'}},\n",
       " {'id': '587133842634',\n",
       "  'name': 'UECE-RNA/IC2023.1',\n",
       "  'descriptionHeading': 'UECE-RNA2023.1',\n",
       "  'ownerId': '111297986967774253788',\n",
       "  'creationTime': '2023-01-29T00:49:20.768Z',\n",
       "  'updateTime': '2023-07-26T14:56:37.535Z',\n",
       "  'courseState': 'ARCHIVED',\n",
       "  'alternateLink': 'https://classroom.google.com/c/NTg3MTMzODQyNjM0',\n",
       "  'teacherGroupEmail': 'UECE_RNA2023_1_teachers_9d5bf763@uece.br',\n",
       "  'courseGroupEmail': 'UECE_RNA2023_1_c40ac448@uece.br',\n",
       "  'guardiansEnabled': False,\n",
       "  'calendarId': 'c_classroome381da14@group.calendar.google.com',\n",
       "  'gradebookSettings': {'calculationType': 'TOTAL_POINTS',\n",
       "   'displaySetting': 'HIDE_OVERALL_GRADE'}},\n",
       " {'id': '539474989352',\n",
       "  'name': 'Estatística para a Pesquisa Educacional I / Introdução à Estatística',\n",
       "  'section': '2022.2',\n",
       "  'descriptionHeading': 'Estatística para a Pesquisa Educacional I / Introdução à Estatística 2022.2',\n",
       "  'ownerId': '106252482104065921150',\n",
       "  'creationTime': '2022-08-23T14:56:06.694Z',\n",
       "  'updateTime': '2022-08-23T14:56:55.274Z',\n",
       "  'courseState': 'ACTIVE',\n",
       "  'alternateLink': 'https://classroom.google.com/c/NTM5NDc0OTg5MzUy',\n",
       "  'teacherGroupEmail': 'Estat_stica_para_a_Pesquisa_Educacional_I_Introdu_o_Estat_stica_2022_2_teachers_402badd7@uece.br',\n",
       "  'courseGroupEmail': 'Estat_stica_para_a_Pesquisa_Educacional_I_Introdu_o_Estat_stica_2022_2_90c8fcc4@uece.br',\n",
       "  'guardiansEnabled': False,\n",
       "  'calendarId': 'c_classroom45e3b040@group.calendar.google.com',\n",
       "  'gradebookSettings': {'calculationType': 'TOTAL_POINTS',\n",
       "   'displaySetting': 'HIDE_OVERALL_GRADE'}},\n",
       " {'id': '538803291283',\n",
       "  'name': 'TEIA2022-DL',\n",
       "  'descriptionHeading': 'TEIA2022-DL',\n",
       "  'ownerId': '111297986967774253788',\n",
       "  'creationTime': '2022-08-17T07:05:18.615Z',\n",
       "  'updateTime': '2023-01-29T00:35:24.704Z',\n",
       "  'courseState': 'ARCHIVED',\n",
       "  'alternateLink': 'https://classroom.google.com/c/NTM4ODAzMjkxMjgz',\n",
       "  'teacherGroupEmail': 'TEIA2022_DL_teachers_4406e910@uece.br',\n",
       "  'courseGroupEmail': 'TEIA2022_DL_28c79279@uece.br',\n",
       "  'guardiansEnabled': False,\n",
       "  'calendarId': 'c_classroom59a14072@group.calendar.google.com',\n",
       "  'gradebookSettings': {'calculationType': 'TOTAL_POINTS',\n",
       "   'displaySetting': 'HIDE_OVERALL_GRADE'}},\n",
       " {'id': '538804256611',\n",
       "  'name': 'IA2022-KRR',\n",
       "  'descriptionHeading': 'IA2022-KR',\n",
       "  'ownerId': '111297986967774253788',\n",
       "  'creationTime': '2022-08-17T07:07:03.185Z',\n",
       "  'updateTime': '2023-01-29T00:35:18.621Z',\n",
       "  'courseState': 'ARCHIVED',\n",
       "  'alternateLink': 'https://classroom.google.com/c/NTM4ODA0MjU2NjEx',\n",
       "  'teacherGroupEmail': 'IA2022_KR_teachers_6d299952@uece.br',\n",
       "  'courseGroupEmail': 'IA2022_KR_aba1e69c@uece.br',\n",
       "  'guardiansEnabled': False,\n",
       "  'calendarId': 'c_classroomb71938b7@group.calendar.google.com',\n",
       "  'gradebookSettings': {'calculationType': 'TOTAL_POINTS',\n",
       "   'displaySetting': 'HIDE_OVERALL_GRADE'}}]"
      ]
     },
     "execution_count": 47,
     "metadata": {},
     "output_type": "execute_result"
    }
   ],
   "source": [
    "courses"
   ]
  },
  {
   "cell_type": "code",
   "execution_count": 10,
   "id": "d071b5e7",
   "metadata": {},
   "outputs": [
    {
     "name": "stdout",
     "output_type": "stream",
     "text": [
      "718672410437\n"
     ]
    }
   ],
   "source": [
    "print(courses[0]['id'])"
   ]
  },
  {
   "cell_type": "code",
   "execution_count": 37,
   "id": "063307d1",
   "metadata": {},
   "outputs": [],
   "source": [
    "def read_topics(id):    \n",
    "\n",
    "    try:\n",
    "        creds = get_creds()\n",
    "        service = build(\"classroom\", \"v1\", credentials=creds)\n",
    "\n",
    "        # Call the Classroom API\n",
    "        results = service.courses().list(pageSize=10).execute()\n",
    "        courses = results.get(\"courses\", [])\n",
    "\n",
    "        # Substitua pelo ID do curso que você deseja acessar\n",
    "        course_id = courses[id][\"id\"]\n",
    "\n",
    "        # Lista os tópicos do curso\n",
    "        topics = service.courses().topics().list(courseId=course_id).execute()\n",
    "        for topic in topics.get(\"topic\", []):\n",
    "            print(f'Topic: {topic[\"name\"]}')\n",
    "\n",
    "        # Lista os trabalhos do curso\n",
    "        course_work = service.courses().courseWork().list(courseId=course_id).execute()\n",
    "        for work in course_work.get(\"courseWork\", []):\n",
    "            print(f'Course Work: {work[\"title\"]}')\n",
    "\n",
    "        return topics.get('topic')\n",
    "\n",
    "    except HttpError as error:\n",
    "        print(f\"An error occurred: {error}\")"
   ]
  },
  {
   "cell_type": "code",
   "execution_count": 48,
   "id": "0eff857f",
   "metadata": {},
   "outputs": [
    {
     "name": "stdout",
     "output_type": "stream",
     "text": [
      "Topic: Sistemas Fuzzy\n",
      "Topic: Sistema Prolog\n",
      "Topic: Lógica Proposicional\n",
      "Topic: Lógica de Predicados\n",
      "Course Work: Aplicação Sistemas Fuzzy\n",
      "Course Work: Sistema Fuzzy - Mizumoto e Zimmerman\n",
      "Course Work: Fundamentação Teórica - Parte I\n",
      "Course Work: Resolução e Predicado Corte\n",
      "Course Work: Listas em Prolog\n",
      "Course Work: Bases de Conhecimento Simples\n",
      "Course Work: Resolução em Lógica Proposicional\n",
      "Course Work: Resolução em Lógica de Predicados\n",
      "Course Work: Representação do Conhecimento\n"
     ]
    },
    {
     "data": {
      "text/plain": [
       "[{'courseId': '599010285175',\n",
       "  'topicId': '614694184507',\n",
       "  'name': 'Sistemas Fuzzy',\n",
       "  'updateTime': '2023-07-06T02:13:26.511Z'},\n",
       " {'courseId': '599010285175',\n",
       "  'topicId': '610961852154',\n",
       "  'name': 'Sistema Prolog',\n",
       "  'updateTime': '2023-06-01T19:31:57.477Z'},\n",
       " {'courseId': '599010285175',\n",
       "  'topicId': '607162063810',\n",
       "  'name': 'Lógica Proposicional',\n",
       "  'updateTime': '2023-05-01T15:23:03.064Z'},\n",
       " {'courseId': '599010285175',\n",
       "  'topicId': '607157642533',\n",
       "  'name': 'Lógica de Predicados',\n",
       "  'updateTime': '2023-05-13T14:32:09.544Z'}]"
      ]
     },
     "execution_count": 48,
     "metadata": {},
     "output_type": "execute_result"
    }
   ],
   "source": [
    "topics = read_topics(5)\n",
    "topics"
   ]
  },
  {
   "cell_type": "code",
   "execution_count": 41,
   "id": "068bb38c",
   "metadata": {},
   "outputs": [
    {
     "data": {
      "text/plain": [
       "{'courseId': '618354217502',\n",
       " 'topicId': '618354217508',\n",
       " 'name': 'Relatório e Apresentação Final',\n",
       " 'updateTime': '2023-08-16T18:17:21.556Z'}"
      ]
     },
     "execution_count": 41,
     "metadata": {},
     "output_type": "execute_result"
    }
   ],
   "source": [
    "topics[0]"
   ]
  },
  {
   "cell_type": "code",
   "execution_count": 49,
   "id": "3093f899",
   "metadata": {},
   "outputs": [],
   "source": [
    "def read_announcments(id):\n",
    "    try:\n",
    "        creds = get_creds()\n",
    "        service = build(\"classroom\", \"v1\", credentials=creds)\n",
    "\n",
    "        # Fetch the list of courses\n",
    "        results = service.courses().list(pageSize=10).execute()\n",
    "        courses = results.get(\"courses\", [])\n",
    "\n",
    "        if not courses:\n",
    "            print(\"No courses found.\")\n",
    "            return\n",
    "\n",
    "        # Select the first course for demonstration\n",
    "        course_id = courses[id][\"id\"]\n",
    "\n",
    "        # Fetch the announcements of the selected course\n",
    "        announcements = (\n",
    "            service.courses().announcements().list(courseId=course_id).execute()\n",
    "        )\n",
    "        for announcement in announcements.get(\"announcements\", []):\n",
    "            print(f'Announcement: {announcement[\"text\"]}')\n",
    "\n",
    "        return announcements.get('announcements')\n",
    "\n",
    "    except HttpError as error:\n",
    "        print(f\"\\nAn error occurred: {error}\\n\")"
   ]
  },
  {
   "cell_type": "code",
   "execution_count": 65,
   "id": "826131e6",
   "metadata": {},
   "outputs": [
    {
     "name": "stdout",
     "output_type": "stream",
     "text": [
      "Announcement: Bruno, bom dia. Envio anexo o seu certificado do Minicurso 2 em PDF (frente e verso). Uma cópia em papel foi deixada para você na secretaria do PPGCC.\n",
      "Announcement: Bruno, acabei de checar, não é igual. \n",
      "Announcement: Classe do Minicurso 2, fiz alterações de redação e substitui o PDF da atividade final e também publiquei os datasets.\n",
      "\n",
      "Announcement: Lembrete: a aula de hoje será das 10h às 12h.\n",
      "Announcement: Caros, a coordenação do PPGCC pediu uma foto para publicar uma notícia. Eu esqueci de fazer na aula de hoje. Peço que colaborem para fazer essa foto amanhã. Obrigado!\n",
      "Announcement: Respondendo para todos a pergunta de um: Não precisa levar notebook para a classe. Serão feitas demonstrações de programação de algoritmos em classe, pelos professores, e os pequenos códigos disponibilizados no classroom. Exercícios serão recomendados mas apenas 2 finais serão exigidos para certificação. \n",
      "Announcement: Nossa MdA já tem uma página de evento de extensão: https://uece.br/eventos/mda2024 \n",
      "\n",
      "\n",
      "Announcement: Classe do Minicurso 2 da MdA 2024,  boa tarde! Sejam bem vindos!\n",
      "Esta escola é uma realização voluntária. Portanto, obrigado pela colaboração de Thayanne, Silas, Nator, Leandro e Luan.\n",
      "  \n",
      "Aos alunos:\n",
      "Lembrem-se de que a maioria dos instrutores não é professor, não tem experiência de ensino, e que o material foi preparado no tempo possível de cada um, não foi revisado e nunca foi utilizado antes em um curso. Portanto, falhas, erros e inadequações acontecerão inevitavelmente. Mesmo assim, temos expectativa de que seja uma excelente oportunidade de aprendizado! Da classe esperamos que vocês tenham uma atitude colaborativa.\n",
      "\n",
      "Por fim, o curso é muito curto, esperamos 100% de presença.\n",
      "  \n",
      "Outra coisa: vamos fazer os minicursos na Sala 05 do PPGCC, não será mais na P-01. É mais confortável para todos.\n",
      "Até breve!\n",
      "Announcement: Ementa do Minicurso 2:\n",
      "\n",
      "Ementa: Introdução: aprendizado de máquina fracamente supervisionado - conceito, tipos, exemplos. Aprendizado por múltiplas instâncias: conceitos, algoritmo baseado em regressão, funções de custo, aplicação em visão computacional. Classificação com Adaptação de domínio: conceitos, algoritmos, funções de custo, aplicação em Processamento de Linguagem Natural.\n"
     ]
    }
   ],
   "source": [
    "announcements = read_announcments(0)"
   ]
  },
  {
   "cell_type": "code",
   "execution_count": 51,
   "id": "21196337",
   "metadata": {},
   "outputs": [
    {
     "data": {
      "text/plain": [
       "[{'courseId': '599010285175',\n",
       "  'id': '696821443203',\n",
       "  'text': 'Turma, boa noite.\\n\\nFinalmente eu lancei as notas, mas ainda não fechei a caderneta. Verifiquem. Se alguém quiser melhorar a nota, só fazer mais algumas questões.\\n\\nAbraços.',\n",
       "  'state': 'PUBLISHED',\n",
       "  'alternateLink': 'https://classroom.google.com/c/NTk5MDEwMjg1MTc1/p/Njk2ODIxNDQzMjAz',\n",
       "  'creationTime': '2024-06-23T23:17:07.398Z',\n",
       "  'updateTime': '2024-06-23T23:17:07.395Z',\n",
       "  'creatorUserId': '110872092626895172605'},\n",
       " {'courseId': '599010285175',\n",
       "  'id': '614954646339',\n",
       "  'text': 'Turma, boa noite!\\n\\nAmanhã nossa aula será presencial. Se vocês concordarem, vamos combinar de encerrar o semestre no dia 30 remotamente, será melhor para exemplificarmos o sistema fuzzy funcionando, além de que a aula não precisará ser extensa.\\xa0\\n\\nVou tentar começar por volta de 8:30, apesar de que costumo chegar antes.',\n",
       "  'state': 'PUBLISHED',\n",
       "  'alternateLink': 'https://classroom.google.com/c/NTk5MDEwMjg1MTc1/p/NjE0OTU0NjQ2MzM5',\n",
       "  'creationTime': '2023-06-22T22:46:00.168Z',\n",
       "  'updateTime': '2023-06-22T22:46:00.160Z',\n",
       "  'creatorUserId': '110872092626895172605'},\n",
       " {'courseId': '599010285175',\n",
       "  'id': '614688215459',\n",
       "  'text': 'Oi turma, boa noite!\\n\\nPostei uma atividade sobre conjuntos fuzzy e operações sobre conjuntos. Verifique, no início da próxima aula, comentarei e mostrarei que é bem simples.\\n\\nSobre a proposta de um seminário, acredito que ficará muito apertado para vocês, pois gostaria de terminar a lógica fuzzy com uma pequena aplicação sobre sistemas fuzzy. Aqueles que precisarem de um tempo mais longo, vamos considerar final de julho como deadline.\\n\\nConversaremos na sexta-feira e tomaremos a melhor decisão.',\n",
       "  'state': 'PUBLISHED',\n",
       "  'alternateLink': 'https://classroom.google.com/c/NTk5MDEwMjg1MTc1/p/NjE0Njg4MjE1NDU5',\n",
       "  'creationTime': '2023-06-19T23:03:35.548Z',\n",
       "  'updateTime': '2023-06-19T23:03:35.540Z',\n",
       "  'creatorUserId': '110872092626895172605'},\n",
       " {'courseId': '599010285175',\n",
       "  'id': '614289967127',\n",
       "  'text': 'Turma, bom dia.\\n\\nSó para consultar vocês a respeito de amanhã, ou seja, vocês preferem a aula no formato presencial ou remoto? Topo qualquer uma das duas opções, mas vocês decidem. Vocês podem manifestar aqui ou enviar e-mail expressando a preferência.',\n",
       "  'state': 'PUBLISHED',\n",
       "  'alternateLink': 'https://classroom.google.com/c/NTk5MDEwMjg1MTc1/p/NjE0Mjg5OTY3MTI3',\n",
       "  'creationTime': '2023-06-15T10:42:45.384Z',\n",
       "  'updateTime': '2023-06-15T10:42:45.376Z',\n",
       "  'creatorUserId': '110872092626895172605'},\n",
       " {'courseId': '599010285175',\n",
       "  'id': '611775078439',\n",
       "  'text': 'Boa tarde, Prof. Gustavo!\\n\\nA aula amanhã será novamente pelo meet ou será na UECE?',\n",
       "  'state': 'PUBLISHED',\n",
       "  'alternateLink': 'https://classroom.google.com/c/NTk5MDEwMjg1MTc1/p/NjExNzc1MDc4NDM5',\n",
       "  'creationTime': '2023-05-25T20:24:26.009Z',\n",
       "  'updateTime': '2023-05-25T20:24:25.992Z',\n",
       "  'creatorUserId': '103857682912614422467'},\n",
       " {'courseId': '599010285175',\n",
       "  'id': '610585580470',\n",
       "  'text': 'Esqueci de criar o meet, segue o link abaixo:\\n\\nLSI 2023 19/05\\nLink da videochamada: https://meet.google.com/jqx-gavt-ewu\\n',\n",
       "  'state': 'PUBLISHED',\n",
       "  'alternateLink': 'https://classroom.google.com/c/NTk5MDEwMjg1MTc1/p/NjEwNTg1NTgwNDcw',\n",
       "  'creationTime': '2023-05-19T11:08:01.085Z',\n",
       "  'updateTime': '2023-05-19T11:08:01.077Z',\n",
       "  'creatorUserId': '110872092626895172605'},\n",
       " {'courseId': '599010285175',\n",
       "  'id': '610270656786',\n",
       "  'text': 'Oi Turma, boa tarde.\\n\\nEsta sexta-feira, gostaria de apresentar um pouco mais sobre listas e alguns programas no formado de bases de conhecimento e um exemplo\\xa0 de aspirador de pó para o mundo simplificado (ainda vou disponibilizar alguns destes programas). Neste caso, acredito que será mais interessante que nossa aula seja via meet, permitindo que vocês testem o swi prolog e o swish com algumas definições de interesse de vcs, além\\xa0 poder executar alguns dos programas que forem surgindo durante nosso encontro.\\n\\nO conteúdo posterior (resolução no sistema prolog, esquemas e lógica fuzzy) podemos ir discutindo lá na Sala 10 mesmo.',\n",
       "  'state': 'PUBLISHED',\n",
       "  'alternateLink': 'https://classroom.google.com/c/NTk5MDEwMjg1MTc1/p/NjEwMjcwNjU2Nzg2',\n",
       "  'creationTime': '2023-05-17T20:14:45.137Z',\n",
       "  'updateTime': '2023-05-17T20:14:45.129Z',\n",
       "  'creatorUserId': '110872092626895172605'},\n",
       " {'courseId': '599010285175',\n",
       "  'id': '609487023129',\n",
       "  'text': 'Oi Turma, bom dia.\\n\\nPostei a atividade sobre Resolução. Aproveitei e disponibilizei as frases do mundo de Wumpus em Lógica Proposicional (na primeira atividade). Acredito que com estas representações só será necessário aplicar a resolução.',\n",
       "  'state': 'PUBLISHED',\n",
       "  'alternateLink': 'https://classroom.google.com/c/NTk5MDEwMjg1MTc1/p/NjA5NDg3MDIzMTI5',\n",
       "  'creationTime': '2023-05-13T14:47:36.531Z',\n",
       "  'updateTime': '2023-05-13T14:47:36.523Z',\n",
       "  'creatorUserId': '110872092626895172605'},\n",
       " {'courseId': '599010285175',\n",
       "  'id': '609234289267',\n",
       "  'text': 'Oi Turma, boa noite.\\n\\nAmanhã nossa aula será presencial. Entretanto, criarei um meet e enviarei o link aqui no mural. Compartilharei a tela do notebook com vocês. Se for fácil para você levar um notebook, ajudará com os slides e a apresentação de algumas ideias em prolog (swi-prolog e swish), além de que você poderá testar algumas das ideias iniciais em programação em lógica (o ideal é que tivéssemos em um lab).',\n",
       "  'state': 'PUBLISHED',\n",
       "  'alternateLink': 'https://classroom.google.com/c/NTk5MDEwMjg1MTc1/p/NjA5MjM0Mjg5MjY3',\n",
       "  'creationTime': '2023-05-11T22:38:57.933Z',\n",
       "  'updateTime': '2023-05-11T22:38:57.922Z',\n",
       "  'creatorUserId': '110872092626895172605'},\n",
       " {'courseId': '599010285175',\n",
       "  'id': '607936242068',\n",
       "  'text': 'Turma, boa tarde.\\n\\nEstou consultando se vocês concordam que nossa aula de amanhã seja remota? Se alguém tiver algum problema, só avisar.\\n\\nPeço que vocês manifestem opinião, só para eu saber se todos receberam a mensagem.\\xa0',\n",
       "  'state': 'PUBLISHED',\n",
       "  'alternateLink': 'https://classroom.google.com/c/NTk5MDEwMjg1MTc1/p/NjA3OTM2MjQyMDY4',\n",
       "  'creationTime': '2023-05-04T20:27:11.445Z',\n",
       "  'updateTime': '2023-05-04T20:27:11.438Z',\n",
       "  'creatorUserId': '110872092626895172605'},\n",
       " {'courseId': '599010285175',\n",
       "  'id': '606671142673',\n",
       "  'text': 'Turma, boa tarde.\\n\\nAmanhã a aula será presencial. Mas, estou pensando em enviar o link de um meet para vocês. Vocês poderão visualizar alguns arquivos via celular ou notebook.\\n\\nAbraços.',\n",
       "  'state': 'PUBLISHED',\n",
       "  'alternateLink': 'https://classroom.google.com/c/NTk5MDEwMjg1MTc1/p/NjA2NjcxMTQyNjcz',\n",
       "  'creationTime': '2023-04-27T18:18:54.442Z',\n",
       "  'updateTime': '2023-04-27T18:18:54.435Z',\n",
       "  'creatorUserId': '110872092626895172605'},\n",
       " {'courseId': '599010285175',\n",
       "  'id': '600896306437',\n",
       "  'text': 'Turma, boa tarde.\\n\\nAcabei pegando a virose que rolando pela cidade, não poderei estar na UECE amanhã. Mas, gostaria de fazer nosso encontro remotamente. Espero estar melhor amanhã para dar conta do recado.\\n\\nEnviarei o convite logo mais.',\n",
       "  'state': 'PUBLISHED',\n",
       "  'alternateLink': 'https://classroom.google.com/c/NTk5MDEwMjg1MTc1/p/NjAwODk2MzA2NDM3',\n",
       "  'creationTime': '2023-03-23T18:35:02.769Z',\n",
       "  'updateTime': '2023-03-23T18:35:02.763Z',\n",
       "  'creatorUserId': '110872092626895172605'}]"
      ]
     },
     "execution_count": 51,
     "metadata": {},
     "output_type": "execute_result"
    }
   ],
   "source": [
    "announcements"
   ]
  },
  {
   "cell_type": "code",
   "execution_count": 66,
   "id": "ed0c1054",
   "metadata": {},
   "outputs": [],
   "source": [
    "def read_rosters(id):\n",
    "    try:\n",
    "        creds = get_creds()\n",
    "        service = build(\"classroom\", \"v1\", credentials=creds)\n",
    "\n",
    "        # Fetch the list of courses\n",
    "        results = service.courses().list(pageSize=10).execute()\n",
    "        courses = results.get(\"courses\", [])\n",
    "\n",
    "        if not courses:\n",
    "            print(\"No courses found.\")\n",
    "            return\n",
    "\n",
    "        # Select the first course for demonstration\n",
    "        course_id = courses[id][\"id\"]\n",
    "\n",
    "        # Fetch the teachers of the selected course\n",
    "        print(\"Teachers:\")\n",
    "        teachers = service.courses().teachers().list(courseId=course_id).execute()\n",
    "        for teacher in teachers.get(\"teachers\", []):\n",
    "            full_name = (\n",
    "                teacher.get(\"profile\", {})\n",
    "                .get(\"name\", {})\n",
    "                .get(\"fullName\", \"Unavailable\")\n",
    "            )\n",
    "            email = teacher.get(\"profile\", {}).get(\"emailAddress\", \"Unavailable\")\n",
    "            print(f\"Type: Teacher, Name: {full_name}, Email: {email}\")\n",
    "\n",
    "        # Fetch the students of the selected course\n",
    "        print(\"Students:\")\n",
    "        students = service.courses().students().list(courseId=course_id).execute()\n",
    "        for student in students.get(\"students\", []):\n",
    "            print(\n",
    "                f\"Type: Student, Name: {student['profile']['name']['fullName']}, Email: {student['profile']['emailAddress']}\"\n",
    "            )\n",
    "\n",
    "        return (teachers.get('teachers'), students.get('students'))\n",
    "\n",
    "    except HttpError as error:\n",
    "        print(f\"\\nAn error occurred: {error}\\n\")"
   ]
  },
  {
   "cell_type": "code",
   "execution_count": 68,
   "id": "5bc47b1d",
   "metadata": {},
   "outputs": [
    {
     "name": "stdout",
     "output_type": "stream",
     "text": [
      "Teachers:\n",
      "Type: Teacher, Name: Gustavo Campos, Email: Unavailable\n",
      "Students:\n",
      "Type: Student, Name: Antonio Leandro Martins Candido, Email: leandro.candido@aluno.uece.br\n"
     ]
    }
   ],
   "source": [
    "teachers, students = read_rosters(5)"
   ]
  },
  {
   "cell_type": "code",
   "execution_count": 69,
   "id": "1d62f553",
   "metadata": {},
   "outputs": [
    {
     "data": {
      "text/plain": [
       "[{'courseId': '599010285175',\n",
       "  'userId': '110872092626895172605',\n",
       "  'profile': {'id': '110872092626895172605',\n",
       "   'name': {'givenName': 'Gustavo',\n",
       "    'familyName': 'Campos',\n",
       "    'fullName': 'Gustavo Campos'},\n",
       "   'photoUrl': '//lh3.googleusercontent.com/a-/ALV-UjXWBiMOfB0NOwsS2rJW2BHwK4ZBK6q34B94agtoOLSqRhy5SY8'}}]"
      ]
     },
     "execution_count": 69,
     "metadata": {},
     "output_type": "execute_result"
    }
   ],
   "source": [
    "teachers"
   ]
  },
  {
   "cell_type": "code",
   "execution_count": 72,
   "id": "5529d2ea",
   "metadata": {},
   "outputs": [
    {
     "data": {
      "text/plain": [
       "[{'courseId': '599010285175',\n",
       "  'userId': '114482112913515012968',\n",
       "  'profile': {'id': '114482112913515012968',\n",
       "   'name': {'givenName': 'Antonio',\n",
       "    'familyName': 'Leandro Martins Candido',\n",
       "    'fullName': 'Antonio Leandro Martins Candido'},\n",
       "   'emailAddress': 'leandro.candido@aluno.uece.br',\n",
       "   'photoUrl': '//lh3.googleusercontent.com/a/ACg8ocKuPkuRGu4yTO0YTSRxhoM4LU0HFCJEC_2mWOVzo2mdPA24yvU'},\n",
       "  'studentWorkFolder': {'id': '10e-edQ_kogNsXAGAp9VsGRoDR1rUmAeVC78CN50jOUaDDBPbCHHX3HQZFMxpFJAxc3Bm4VYb',\n",
       "   'title': 'LSI 2023',\n",
       "   'alternateLink': 'https://drive.google.com/drive/folders/10e-edQ_kogNsXAGAp9VsGRoDR1rUmAeVC78CN50jOUaDDBPbCHHX3HQZFMxpFJAxc3Bm4VYb'}}]"
      ]
     },
     "execution_count": 72,
     "metadata": {},
     "output_type": "execute_result"
    }
   ],
   "source": [
    "students"
   ]
  },
  {
   "cell_type": "code",
   "execution_count": 85,
   "id": "eb645e25",
   "metadata": {},
   "outputs": [],
   "source": [
    "def read_comments(id):\n",
    "    try:\n",
    "        creds = get_creds()\n",
    "        service = build(\"classroom\", \"v1\", credentials=creds)\n",
    "\n",
    "        # Fetch the list of courses\n",
    "        results = service.courses().list(pageSize=10).execute()\n",
    "        courses = results.get(\"courses\", [])\n",
    "\n",
    "        if not courses:\n",
    "            print(\"No courses found.\")\n",
    "            return\n",
    "\n",
    "        # Substitua pelo ID do curso que você deseja acessar\n",
    "        course_id = courses[id][\"id\"]\n",
    "\n",
    "        announcement = (\n",
    "            service.courses()\n",
    "            .announcements()\n",
    "            .get(courseId=course_id, id=696821443203)\n",
    "            .execute()\n",
    "        )\n",
    "        print(announcement)\n",
    "        print(f'Announcement Details: {announcement[\"text\"]}')\n",
    "\n",
    "        # Lista os anúncios do curso\n",
    "        announcements = service.courses().announcements().list(courseId=course_id).execute()        \n",
    "        for announcement in announcements.get(\"announcements\", []):\n",
    "            print(f'Announcement: {announcement[\"text\"]}')\n",
    "\n",
    "            # Lista os comentários do anúncio\n",
    "            announcement_id = announcement[\"id\"]\n",
    "            comments = (\n",
    "                service.courses()\n",
    "                .announcements()\n",
    "                .comments()\n",
    "                .list(courseId=course_id, announcementId=announcement_id)\n",
    "                .execute()\n",
    "            )\n",
    "            for comment in comments.get(\"comments\", []):\n",
    "                print(f'Comment: {comment[\"text\"]}')\n",
    "\n",
    "    except HttpError as error:\n",
    "      print(f\"\\nAn error occurred: {error}\\n\")"
   ]
  },
  {
   "cell_type": "code",
   "execution_count": 86,
   "id": "4383aad8",
   "metadata": {},
   "outputs": [
    {
     "name": "stdout",
     "output_type": "stream",
     "text": [
      "{'courseId': '599010285175', 'id': '696821443203', 'text': 'Turma, boa noite.\\n\\nFinalmente eu lancei as notas, mas ainda não fechei a caderneta. Verifiquem. Se alguém quiser melhorar a nota, só fazer mais algumas questões.\\n\\nAbraços.', 'state': 'PUBLISHED', 'alternateLink': 'https://classroom.google.com/c/NTk5MDEwMjg1MTc1/p/Njk2ODIxNDQzMjAz', 'creationTime': '2024-06-23T23:17:07.398Z', 'updateTime': '2024-06-23T23:17:07.395Z', 'creatorUserId': '110872092626895172605'}\n",
      "Announcement Details: Turma, boa noite.\n",
      "\n",
      "Finalmente eu lancei as notas, mas ainda não fechei a caderneta. Verifiquem. Se alguém quiser melhorar a nota, só fazer mais algumas questões.\n",
      "\n",
      "Abraços.\n",
      "Announcement: Turma, boa noite.\n",
      "\n",
      "Finalmente eu lancei as notas, mas ainda não fechei a caderneta. Verifiquem. Se alguém quiser melhorar a nota, só fazer mais algumas questões.\n",
      "\n",
      "Abraços.\n"
     ]
    },
    {
     "ename": "AttributeError",
     "evalue": "'Resource' object has no attribute 'comments'",
     "output_type": "error",
     "traceback": [
      "\u001b[1;31m---------------------------------------------------------------------------\u001b[0m",
      "\u001b[1;31mAttributeError\u001b[0m                            Traceback (most recent call last)",
      "Cell \u001b[1;32mIn[86], line 1\u001b[0m\n\u001b[1;32m----> 1\u001b[0m \u001b[43mread_comments\u001b[49m\u001b[43m(\u001b[49m\u001b[38;5;241;43m5\u001b[39;49m\u001b[43m)\u001b[49m\n",
      "Cell \u001b[1;32mIn[85], line 36\u001b[0m, in \u001b[0;36mread_comments\u001b[1;34m(id)\u001b[0m\n\u001b[0;32m     33\u001b[0m \u001b[38;5;66;03m# Lista os comentários do anúncio\u001b[39;00m\n\u001b[0;32m     34\u001b[0m announcement_id \u001b[38;5;241m=\u001b[39m announcement[\u001b[38;5;124m\"\u001b[39m\u001b[38;5;124mid\u001b[39m\u001b[38;5;124m\"\u001b[39m]\n\u001b[0;32m     35\u001b[0m comments \u001b[38;5;241m=\u001b[39m (\n\u001b[1;32m---> 36\u001b[0m     \u001b[43mservice\u001b[49m\u001b[38;5;241;43m.\u001b[39;49m\u001b[43mcourses\u001b[49m\u001b[43m(\u001b[49m\u001b[43m)\u001b[49m\n\u001b[0;32m     37\u001b[0m \u001b[43m    \u001b[49m\u001b[38;5;241;43m.\u001b[39;49m\u001b[43mannouncements\u001b[49m\u001b[43m(\u001b[49m\u001b[43m)\u001b[49m\n\u001b[0;32m     38\u001b[0m \u001b[43m    \u001b[49m\u001b[38;5;241;43m.\u001b[39;49m\u001b[43mcomments\u001b[49m()\n\u001b[0;32m     39\u001b[0m     \u001b[38;5;241m.\u001b[39mlist(courseId\u001b[38;5;241m=\u001b[39mcourse_id, announcementId\u001b[38;5;241m=\u001b[39mannouncement_id)\n\u001b[0;32m     40\u001b[0m     \u001b[38;5;241m.\u001b[39mexecute()\n\u001b[0;32m     41\u001b[0m )\n\u001b[0;32m     42\u001b[0m \u001b[38;5;28;01mfor\u001b[39;00m comment \u001b[38;5;129;01min\u001b[39;00m comments\u001b[38;5;241m.\u001b[39mget(\u001b[38;5;124m\"\u001b[39m\u001b[38;5;124mcomments\u001b[39m\u001b[38;5;124m\"\u001b[39m, []):\n\u001b[0;32m     43\u001b[0m     \u001b[38;5;28mprint\u001b[39m(\u001b[38;5;124mf\u001b[39m\u001b[38;5;124m'\u001b[39m\u001b[38;5;124mComment: \u001b[39m\u001b[38;5;132;01m{\u001b[39;00mcomment[\u001b[38;5;124m\"\u001b[39m\u001b[38;5;124mtext\u001b[39m\u001b[38;5;124m\"\u001b[39m]\u001b[38;5;132;01m}\u001b[39;00m\u001b[38;5;124m'\u001b[39m)\n",
      "\u001b[1;31mAttributeError\u001b[0m: 'Resource' object has no attribute 'comments'"
     ]
    }
   ],
   "source": [
    "read_comments(5)"
   ]
  },
  {
   "cell_type": "code",
   "execution_count": 91,
   "id": "7b3cb1ca",
   "metadata": {},
   "outputs": [],
   "source": [
    "def read_comments(id):\n",
    "    try:\n",
    "        creds = get_creds()\n",
    "        service = build(\"classroom\", \"v1\", credentials=creds)\n",
    "\n",
    "        # Fetch the list of courses\n",
    "        results = service.courses().list(pageSize=10).execute()\n",
    "        courses = results.get(\"courses\", [])\n",
    "\n",
    "        if not courses:\n",
    "            print(\"No courses found.\")\n",
    "            return\n",
    "\n",
    "        # Substitua pelo ID do curso que você deseja acessar\n",
    "        course_id = courses[id][\"id\"]\n",
    "\n",
    "        # Lista os anúncios do curso\n",
    "        announcements = service.courses().announcements().list(courseId=course_id).execute()\n",
    "        for announcement in announcements.get(\"announcements\", []):\n",
    "            print(f'Announcement: {announcement[\"text\"]}')\n",
    "\n",
    "            # Lista os comentários do anúncio\n",
    "            announcement_id = announcement[\"id\"]\n",
    "            comments = (\n",
    "                service.courses()\n",
    "                .announcements()\n",
    "                .list(courseId=course_id)\n",
    "                .execute()\n",
    "            )\n",
    "            for comment in comments.get(\"comments\", []):\n",
    "                print(f'Comment: {comment[\"text\"]}')\n",
    "\n",
    "    except HttpError as error:\n",
    "      print(f\"\\nAn error occurred: {error}\\n\")"
   ]
  },
  {
   "cell_type": "code",
   "execution_count": 92,
   "id": "acb7086e",
   "metadata": {},
   "outputs": [
    {
     "name": "stdout",
     "output_type": "stream",
     "text": [
      "Announcement: Turma, boa noite.\n",
      "\n",
      "Finalmente eu lancei as notas, mas ainda não fechei a caderneta. Verifiquem. Se alguém quiser melhorar a nota, só fazer mais algumas questões.\n",
      "\n",
      "Abraços.\n",
      "Announcement: Turma, boa noite!\n",
      "\n",
      "Amanhã nossa aula será presencial. Se vocês concordarem, vamos combinar de encerrar o semestre no dia 30 remotamente, será melhor para exemplificarmos o sistema fuzzy funcionando, além de que a aula não precisará ser extensa. \n",
      "\n",
      "Vou tentar começar por volta de 8:30, apesar de que costumo chegar antes.\n",
      "Announcement: Oi turma, boa noite!\n",
      "\n",
      "Postei uma atividade sobre conjuntos fuzzy e operações sobre conjuntos. Verifique, no início da próxima aula, comentarei e mostrarei que é bem simples.\n",
      "\n",
      "Sobre a proposta de um seminário, acredito que ficará muito apertado para vocês, pois gostaria de terminar a lógica fuzzy com uma pequena aplicação sobre sistemas fuzzy. Aqueles que precisarem de um tempo mais longo, vamos considerar final de julho como deadline.\n",
      "\n",
      "Conversaremos na sexta-feira e tomaremos a melhor decisão.\n",
      "Announcement: Turma, bom dia.\n",
      "\n",
      "Só para consultar vocês a respeito de amanhã, ou seja, vocês preferem a aula no formato presencial ou remoto? Topo qualquer uma das duas opções, mas vocês decidem. Vocês podem manifestar aqui ou enviar e-mail expressando a preferência.\n",
      "Announcement: Boa tarde, Prof. Gustavo!\n",
      "\n",
      "A aula amanhã será novamente pelo meet ou será na UECE?\n",
      "Announcement: Esqueci de criar o meet, segue o link abaixo:\n",
      "\n",
      "LSI 2023 19/05\n",
      "Link da videochamada: https://meet.google.com/jqx-gavt-ewu\n",
      "\n",
      "Announcement: Oi Turma, boa tarde.\n",
      "\n",
      "Esta sexta-feira, gostaria de apresentar um pouco mais sobre listas e alguns programas no formado de bases de conhecimento e um exemplo  de aspirador de pó para o mundo simplificado (ainda vou disponibilizar alguns destes programas). Neste caso, acredito que será mais interessante que nossa aula seja via meet, permitindo que vocês testem o swi prolog e o swish com algumas definições de interesse de vcs, além  poder executar alguns dos programas que forem surgindo durante nosso encontro.\n",
      "\n",
      "O conteúdo posterior (resolução no sistema prolog, esquemas e lógica fuzzy) podemos ir discutindo lá na Sala 10 mesmo.\n",
      "Announcement: Oi Turma, bom dia.\n",
      "\n",
      "Postei a atividade sobre Resolução. Aproveitei e disponibilizei as frases do mundo de Wumpus em Lógica Proposicional (na primeira atividade). Acredito que com estas representações só será necessário aplicar a resolução.\n",
      "Announcement: Oi Turma, boa noite.\n",
      "\n",
      "Amanhã nossa aula será presencial. Entretanto, criarei um meet e enviarei o link aqui no mural. Compartilharei a tela do notebook com vocês. Se for fácil para você levar um notebook, ajudará com os slides e a apresentação de algumas ideias em prolog (swi-prolog e swish), além de que você poderá testar algumas das ideias iniciais em programação em lógica (o ideal é que tivéssemos em um lab).\n",
      "Announcement: Turma, boa tarde.\n",
      "\n",
      "Estou consultando se vocês concordam que nossa aula de amanhã seja remota? Se alguém tiver algum problema, só avisar.\n",
      "\n",
      "Peço que vocês manifestem opinião, só para eu saber se todos receberam a mensagem. \n",
      "Announcement: Turma, boa tarde.\n",
      "\n",
      "Amanhã a aula será presencial. Mas, estou pensando em enviar o link de um meet para vocês. Vocês poderão visualizar alguns arquivos via celular ou notebook.\n",
      "\n",
      "Abraços.\n",
      "Announcement: Turma, boa tarde.\n",
      "\n",
      "Acabei pegando a virose que rolando pela cidade, não poderei estar na UECE amanhã. Mas, gostaria de fazer nosso encontro remotamente. Espero estar melhor amanhã para dar conta do recado.\n",
      "\n",
      "Enviarei o convite logo mais.\n"
     ]
    }
   ],
   "source": [
    "read_comments(5)"
   ]
  }
 ],
 "metadata": {
  "kernelspec": {
   "display_name": "Python 3",
   "language": "python",
   "name": "python3"
  },
  "language_info": {
   "codemirror_mode": {
    "name": "ipython",
    "version": 3
   },
   "file_extension": ".py",
   "mimetype": "text/x-python",
   "name": "python",
   "nbconvert_exporter": "python",
   "pygments_lexer": "ipython3",
   "version": "3.9.10"
  }
 },
 "nbformat": 4,
 "nbformat_minor": 5
}
